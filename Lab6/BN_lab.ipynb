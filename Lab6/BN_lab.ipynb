{
 "cells": [
  {
   "cell_type": "markdown",
   "metadata": {
    "slideshow": {
     "slide_type": "subslide"
    }
   },
   "source": [
    "# Bayesian Network Tutorial with Titanic Dataset\n",
    "\n",
    "## 1. Introduction\n",
    " In this tutorial, you'll learn how to build a Bayesian Network using Python and the Titanic dataset.\n",
    " We'll cover the theory briefly, followed by hands-on coding using the pgmpy library.\n",
    "\n",
    " ## 2. What is a Bayesian Network?\n",
    " A Bayesian Network is a probabilistic graphical model that represents a set of variables and their conditional dependencies using a directed acyclic graph (DAG).\n",
    " - **Nodes**: Represent variables.\n",
    " - **Edges**: Represent conditional dependencies.\n",
    " - **CPDs**: Conditional Probability Distributions quantify relationships.\n",
    "\n",
    " ### Why use Bayesian Networks?\n",
    " - Handle missing data\n",
    " - Perform probabilistic inference\n",
    " - Encode expert knowledge in a graph structure\n"
   ]
  },
  {
   "cell_type": "code",
   "metadata": {
    "ExecuteTime": {
     "end_time": "2025-05-19T11:17:03.270538Z",
     "start_time": "2025-05-19T11:16:24.373840Z"
    }
   },
   "source": [
    "\n",
    "# ## 3. Install Required Packages\n",
    "# !pip install pandas scikit-learn pgmpy pyvis\n",
    "\n",
    "# ## 4. Load and Preprocess the Titanic Dataset\n",
    "import pandas as pd\n",
    "from sklearn.preprocessing import LabelEncoder\n",
    "\n",
    "from pgmpy.models import DiscreteBayesianNetwork \n",
    "\n",
    "from plotly.subplots import make_subplots\n",
    "import plotly.graph_objects as go\n",
    "from math import ceil\n",
    "import pandas as pd\n",
    "import networkx as nx\n",
    "import matplotlib.pyplot as plt\n"
   ],
   "outputs": [],
   "execution_count": 1
  },
  {
   "cell_type": "code",
   "execution_count": 14,
   "metadata": {},
   "outputs": [
    {
     "data": {
      "text/html": [
       "<div>\n",
       "<style scoped>\n",
       "    .dataframe tbody tr th:only-of-type {\n",
       "        vertical-align: middle;\n",
       "    }\n",
       "\n",
       "    .dataframe tbody tr th {\n",
       "        vertical-align: top;\n",
       "    }\n",
       "\n",
       "    .dataframe thead th {\n",
       "        text-align: right;\n",
       "    }\n",
       "</style>\n",
       "<table border=\"1\" class=\"dataframe\">\n",
       "  <thead>\n",
       "    <tr style=\"text-align: right;\">\n",
       "      <th></th>\n",
       "      <th>cement</th>\n",
       "      <th>slag</th>\n",
       "      <th>ash</th>\n",
       "      <th>water</th>\n",
       "      <th>superplastic</th>\n",
       "      <th>coarseagg</th>\n",
       "      <th>fineagg</th>\n",
       "      <th>age</th>\n",
       "      <th>strength</th>\n",
       "    </tr>\n",
       "  </thead>\n",
       "  <tbody>\n",
       "    <tr>\n",
       "      <th>0</th>\n",
       "      <td>141.3</td>\n",
       "      <td>212.0</td>\n",
       "      <td>0.0</td>\n",
       "      <td>203.5</td>\n",
       "      <td>0.0</td>\n",
       "      <td>971.8</td>\n",
       "      <td>748.5</td>\n",
       "      <td>28</td>\n",
       "      <td>29.89</td>\n",
       "    </tr>\n",
       "    <tr>\n",
       "      <th>1</th>\n",
       "      <td>168.9</td>\n",
       "      <td>42.2</td>\n",
       "      <td>124.3</td>\n",
       "      <td>158.3</td>\n",
       "      <td>10.8</td>\n",
       "      <td>1080.8</td>\n",
       "      <td>796.2</td>\n",
       "      <td>14</td>\n",
       "      <td>23.51</td>\n",
       "    </tr>\n",
       "    <tr>\n",
       "      <th>2</th>\n",
       "      <td>250.0</td>\n",
       "      <td>0.0</td>\n",
       "      <td>95.7</td>\n",
       "      <td>187.4</td>\n",
       "      <td>5.5</td>\n",
       "      <td>956.9</td>\n",
       "      <td>861.2</td>\n",
       "      <td>28</td>\n",
       "      <td>29.22</td>\n",
       "    </tr>\n",
       "    <tr>\n",
       "      <th>3</th>\n",
       "      <td>266.0</td>\n",
       "      <td>114.0</td>\n",
       "      <td>0.0</td>\n",
       "      <td>228.0</td>\n",
       "      <td>0.0</td>\n",
       "      <td>932.0</td>\n",
       "      <td>670.0</td>\n",
       "      <td>28</td>\n",
       "      <td>45.85</td>\n",
       "    </tr>\n",
       "    <tr>\n",
       "      <th>4</th>\n",
       "      <td>154.8</td>\n",
       "      <td>183.4</td>\n",
       "      <td>0.0</td>\n",
       "      <td>193.3</td>\n",
       "      <td>9.1</td>\n",
       "      <td>1047.4</td>\n",
       "      <td>696.7</td>\n",
       "      <td>28</td>\n",
       "      <td>18.29</td>\n",
       "    </tr>\n",
       "  </tbody>\n",
       "</table>\n",
       "</div>"
      ],
      "text/plain": [
       "   cement   slag    ash  water  superplastic  coarseagg  fineagg  age  \\\n",
       "0   141.3  212.0    0.0  203.5           0.0      971.8    748.5   28   \n",
       "1   168.9   42.2  124.3  158.3          10.8     1080.8    796.2   14   \n",
       "2   250.0    0.0   95.7  187.4           5.5      956.9    861.2   28   \n",
       "3   266.0  114.0    0.0  228.0           0.0      932.0    670.0   28   \n",
       "4   154.8  183.4    0.0  193.3           9.1     1047.4    696.7   28   \n",
       "\n",
       "   strength  \n",
       "0     29.89  \n",
       "1     23.51  \n",
       "2     29.22  \n",
       "3     45.85  \n",
       "4     18.29  "
      ]
     },
     "execution_count": 14,
     "metadata": {},
     "output_type": "execute_result"
    }
   ],
   "source": [
    "df = pd.read_csv('concrete.csv')\n",
    "df.head()"
   ]
  },
  {
   "cell_type": "code",
   "execution_count": 15,
   "metadata": {},
   "outputs": [
    {
     "data": {
      "text/plain": [
       "Index(['cement', 'slag', 'ash', 'water', 'superplastic', 'coarseagg',\n",
       "       'fineagg', 'age', 'strength'],\n",
       "      dtype='object')"
      ]
     },
     "execution_count": 15,
     "metadata": {},
     "output_type": "execute_result"
    }
   ],
   "source": [
    "df.columns"
   ]
  },
  {
   "cell_type": "code",
   "execution_count": 4,
   "metadata": {},
   "outputs": [
    {
     "data": {
      "text/html": [
       "<div>\n",
       "<style scoped>\n",
       "    .dataframe tbody tr th:only-of-type {\n",
       "        vertical-align: middle;\n",
       "    }\n",
       "\n",
       "    .dataframe tbody tr th {\n",
       "        vertical-align: top;\n",
       "    }\n",
       "\n",
       "    .dataframe thead th {\n",
       "        text-align: right;\n",
       "    }\n",
       "</style>\n",
       "<table border=\"1\" class=\"dataframe\">\n",
       "  <thead>\n",
       "    <tr style=\"text-align: right;\">\n",
       "      <th></th>\n",
       "      <th>Survived</th>\n",
       "      <th>Pclass</th>\n",
       "      <th>Sex</th>\n",
       "      <th>Age</th>\n",
       "      <th>SibSp</th>\n",
       "      <th>Parch</th>\n",
       "      <th>Embarked</th>\n",
       "    </tr>\n",
       "  </thead>\n",
       "  <tbody>\n",
       "    <tr>\n",
       "      <th>0</th>\n",
       "      <td>0</td>\n",
       "      <td>3</td>\n",
       "      <td>male</td>\n",
       "      <td>child</td>\n",
       "      <td>1</td>\n",
       "      <td>0</td>\n",
       "      <td>S</td>\n",
       "    </tr>\n",
       "    <tr>\n",
       "      <th>1</th>\n",
       "      <td>1</td>\n",
       "      <td>1</td>\n",
       "      <td>female</td>\n",
       "      <td>adult</td>\n",
       "      <td>1</td>\n",
       "      <td>0</td>\n",
       "      <td>C</td>\n",
       "    </tr>\n",
       "    <tr>\n",
       "      <th>2</th>\n",
       "      <td>1</td>\n",
       "      <td>3</td>\n",
       "      <td>female</td>\n",
       "      <td>child</td>\n",
       "      <td>0</td>\n",
       "      <td>0</td>\n",
       "      <td>S</td>\n",
       "    </tr>\n",
       "    <tr>\n",
       "      <th>3</th>\n",
       "      <td>1</td>\n",
       "      <td>1</td>\n",
       "      <td>female</td>\n",
       "      <td>adult</td>\n",
       "      <td>1</td>\n",
       "      <td>0</td>\n",
       "      <td>S</td>\n",
       "    </tr>\n",
       "    <tr>\n",
       "      <th>4</th>\n",
       "      <td>0</td>\n",
       "      <td>3</td>\n",
       "      <td>male</td>\n",
       "      <td>adult</td>\n",
       "      <td>0</td>\n",
       "      <td>0</td>\n",
       "      <td>S</td>\n",
       "    </tr>\n",
       "  </tbody>\n",
       "</table>\n",
       "</div>"
      ],
      "text/plain": [
       "   Survived  Pclass     Sex    Age  SibSp  Parch Embarked\n",
       "0         0       3    male  child      1      0        S\n",
       "1         1       1  female  adult      1      0        C\n",
       "2         1       3  female  child      0      0        S\n",
       "3         1       1  female  adult      1      0        S\n",
       "4         0       3    male  adult      0      0        S"
      ]
     },
     "execution_count": 4,
     "metadata": {},
     "output_type": "execute_result"
    }
   ],
   "source": [
    "\n",
    "# Select relevant features\n",
    "df = df[[\"Survived\", \"Pclass\", \"Sex\", \"Age\", \"SibSp\", \"Parch\", \"Embarked\"]]\n",
    "\n",
    "# Drop missing values for simplicity\n",
    "df.dropna(inplace=True)\n",
    "\n",
    "\n",
    "# Discretize Age into bins\n",
    "df[\"Age\"] = pd.cut(df[\"Age\"], bins=3, labels=['child', 'adult', 'old'])\n",
    "\n",
    "# Show preprocessed data\n",
    "df.head()\n"
   ]
  },
  {
   "cell_type": "code",
   "execution_count": 5,
   "metadata": {},
   "outputs": [],
   "source": [
    "\n",
    "# ## 5. Define the Bayesian Network Structure\n",
    "\n",
    "\n",
    "# Manually define the structure\n",
    "model = DiscreteBayesianNetwork ([\n",
    "    (\"Pclass\", \"Survived\"),\n",
    "    (\"Sex\", \"Pclass\"),\n",
    "    (\"Age\", \"Pclass\"),\n",
    "    (\"SibSp\", \"Survived\"),\n",
    "    (\"Parch\", \"Survived\"),\n",
    "    (\"Embarked\", \"Survived\")\n",
    "])\n"
   ]
  },
  {
   "cell_type": "code",
   "execution_count": 6,
   "metadata": {},
   "outputs": [
    {
     "name": "stderr",
     "output_type": "stream",
     "text": [
      "INFO:pgmpy: Datatype (N=numerical, C=Categorical Unordered, O=Categorical Ordered) inferred from data: \n",
      " {'Survived': 'N', 'Pclass': 'N', 'Sex': 'C', 'Age': 'O', 'SibSp': 'N', 'Parch': 'N', 'Embarked': 'C'}\n"
     ]
    },
    {
     "data": {
      "text/plain": [
       "<pgmpy.models.DiscreteBayesianNetwork.DiscreteBayesianNetwork at 0x2a7721fe270>"
      ]
     },
     "execution_count": 6,
     "metadata": {},
     "output_type": "execute_result"
    }
   ],
   "source": [
    "\n",
    "# ## 6. Fit the Model\n",
    "from pgmpy.estimators import MaximumLikelihoodEstimator\n",
    "\n",
    "# Fit model using Maximum Likelihood Estimation\n",
    "model.fit(df, estimator=MaximumLikelihoodEstimator)\n"
   ]
  },
  {
   "cell_type": "code",
   "execution_count": 7,
   "metadata": {},
   "outputs": [],
   "source": [
    "\n",
    "# ## 7. Make Inference\n",
    "from pgmpy.inference import VariableElimination\n",
    "\n",
    "# Create inference object\n",
    "inference = VariableElimination(model)\n"
   ]
  },
  {
   "cell_type": "code",
   "execution_count": 8,
   "metadata": {},
   "outputs": [
    {
     "name": "stdout",
     "output_type": "stream",
     "text": [
      "+-------------+-----------------+\n",
      "| Survived    |   phi(Survived) |\n",
      "+=============+=================+\n",
      "| Survived(0) |          0.3820 |\n",
      "+-------------+-----------------+\n",
      "| Survived(1) |          0.6180 |\n",
      "+-------------+-----------------+\n"
     ]
    }
   ],
   "source": [
    "\n",
    "# Query: Probability of survival given Sex = female (0), Pclass = 1\n",
    "query_result = inference.query(\n",
    "    variables=[\"Survived\"],\n",
    "    evidence={\"Sex\": 'female', \"Pclass\": 1}\n",
    ")\n",
    "\n",
    "print(query_result)\n"
   ]
  },
  {
   "cell_type": "markdown",
   "metadata": {},
   "source": []
  },
  {
   "cell_type": "code",
   "execution_count": 9,
   "metadata": {},
   "outputs": [
    {
     "name": "stdout",
     "output_type": "stream",
     "text": [
      "Nodes: ['Pclass', 'Survived', 'Sex', 'Age', 'SibSp', 'Parch', 'Embarked']\n",
      "Edges: [('Pclass', 'Survived'), ('Sex', 'Pclass'), ('Age', 'Pclass'), ('SibSp', 'Survived'), ('Parch', 'Survived'), ('Embarked', 'Survived')]\n"
     ]
    }
   ],
   "source": [
    "print(\"Nodes:\", list(model.nodes()))\n",
    "print(\"Edges:\", list(model.edges()))"
   ]
  },
  {
   "cell_type": "code",
   "execution_count": 10,
   "metadata": {},
   "outputs": [
    {
     "data": {
      "image/png": "[encoded data removed]",
      "text/plain": [
       "<Figure size 640x480 with 1 Axes>"
      ]
     },
     "metadata": {},
     "output_type": "display_data"
    }
   ],
   "source": [
    "import matplotlib.pyplot as plt\n",
    "import networkx as nx\n",
    "\n",
    "# Створюємо окремий граф із тієї ж структури\n",
    "G = nx.DiGraph()\n",
    "G.add_nodes_from(model.nodes())\n",
    "G.add_edges_from(model.edges())\n",
    "\n",
    "# Отримуємо layout\n",
    "pos = nx.spring_layout(G)\n",
    "\n",
    "# Малюємо граф\n",
    "nx.draw(\n",
    "    G,\n",
    "    pos,\n",
    "    with_labels=True,\n",
    "    node_size=2000,\n",
    "    node_color='lightblue',\n",
    "    font_size=10,\n",
    "    arrows=False\n",
    ")\n",
    "plt.title(\"Bayesian Network Structure\")\n",
    "plt.show()\n"
   ]
  },
  {
   "cell_type": "code",
   "execution_count": 11,
   "metadata": {},
   "outputs": [
    {
     "name": "stdout",
     "output_type": "stream",
     "text": [
      "Warning: When  cdn_resources is 'local' jupyter notebook has issues displaying graphics on chrome/safari. Use cdn_resources='in_line' or cdn_resources='remote' if you have issues viewing graphics in a notebook.\n",
      "bayesian_network.html\n"
     ]
    },
    {
     "data": {
      "text/html": [
       "\n",
       "        <iframe\n",
       "            width=\"100%\"\n",
       "            height=\"800px\"\n",
       "            src=\"bayesian_network.html\"\n",
       "            frameborder=\"0\"\n",
       "            allowfullscreen\n",
       "            \n",
       "        ></iframe>\n",
       "        "
      ],
      "text/plain": [
       "<IPython.lib.display.IFrame at 0x2a772450aa0>"
      ]
     },
     "execution_count": 11,
     "metadata": {},
     "output_type": "execute_result"
    }
   ],
   "source": [
    "# ## 8. Interactive Visualization with CPD Tooltips\n",
    "from pyvis.network import Network\n",
    "import html\n",
    "\n",
    "net = Network(notebook=True, directed=True, height='800px', width='100%', bgcolor='#ffffff', font_color='black')\n",
    "\n",
    "# Add nodes with nicely formatted CPD in HTML tooltip\n",
    "for node in model.nodes():\n",
    "    try:\n",
    "        cpd = model.get_cpds(node)\n",
    "        tooltip = f\"<pre>{html.escape(str(cpd))}</pre>\"\n",
    "    except:\n",
    "        tooltip = node\n",
    "    net.add_node(node, label=node, title=tooltip, shape='dot', size=25)\n",
    "\n",
    "# Add edges\n",
    "for edge in model.edges():\n",
    "    net.add_edge(*edge)\n",
    "\n",
    "# Improve physics and layout\n",
    "net.toggle_physics(True)\n",
    "net.barnes_hut()\n",
    "\n",
    "net.show(\"bayesian_network.html\")"
   ]
  },
  {
   "cell_type": "code",
   "execution_count": 13,
   "metadata": {},
   "outputs": [
    {
     "name": "stderr",
     "output_type": "stream",
     "text": [
      "INFO:pgmpy: Datatype (N=numerical, C=Categorical Unordered, O=Categorical Ordered) inferred from data: \n",
      " {'Survived': 'N', 'Pclass': 'N', 'Sex': 'C', 'Age': 'O', 'SibSp': 'N', 'Parch': 'N', 'Embarked': 'C'}\n",
      "WARNING:pgmpy:Replacing existing CPD for Pclass\n",
      "WARNING:pgmpy:Replacing existing CPD for Survived\n",
      "WARNING:pgmpy:Replacing existing CPD for Sex\n",
      "WARNING:pgmpy:Replacing existing CPD for Age\n",
      "WARNING:pgmpy:Replacing existing CPD for SibSp\n",
      "WARNING:pgmpy:Replacing existing CPD for Parch\n",
      "WARNING:pgmpy:Replacing existing CPD for Embarked\n"
     ]
    },
    {
     "data": {
      "application/vnd.jupyter.widget-view+json": {
       "model_id": "05160aacdd0447d193f31c75bc2ea3f3",
       "version_major": 2,
       "version_minor": 0
      },
      "text/plain": [
       "interactive(children=(Dropdown(description='Sex:', options=(('Female', 'female'), ('Male', 'male')), value='fe…"
      ]
     },
     "metadata": {},
     "output_type": "display_data"
    },
    {
     "ename": "NameError",
     "evalue": "name 'cpds' is not defined",
     "output_type": "error",
     "traceback": [
      "\u001B[31m---------------------------------------------------------------------------\u001B[39m",
      "\u001B[31mNameError\u001B[39m                                 Traceback (most recent call last)",
      "\u001B[36mCell\u001B[39m\u001B[36m \u001B[39m\u001B[32mIn[13]\u001B[39m\u001B[32m, line 91\u001B[39m\n\u001B[32m     88\u001B[39m nx.draw(G, pos, with_labels=\u001B[38;5;28;01mTrue\u001B[39;00m, node_color=\u001B[33m'\u001B[39m\u001B[33mlightblue\u001B[39m\u001B[33m'\u001B[39m, node_size=\u001B[32m2000\u001B[39m, font_size=\u001B[32m10\u001B[39m, arrows=\u001B[38;5;28;01mTrue\u001B[39;00m)\n\u001B[32m     90\u001B[39m \u001B[38;5;66;03m# Annotate nodes with posterior probabilities (exclude root variables)\u001B[39;00m\n\u001B[32m---> \u001B[39m\u001B[32m91\u001B[39m \u001B[38;5;28;01mfor\u001B[39;00m cpd \u001B[38;5;129;01min\u001B[39;00m \u001B[43mcpds\u001B[49m:\n\u001B[32m     92\u001B[39m     variable = cpd.variable\n\u001B[32m     93\u001B[39m     \u001B[38;5;66;03m# Display all nodes, including root variables\u001B[39;00m\n",
      "\u001B[31mNameError\u001B[39m: name 'cpds' is not defined"
     ]
    },
    {
     "data": {
      "image/png": "[encoded data removed]",
      "text/plain": [
       "<Figure size 1000x700 with 1 Axes>"
      ]
     },
     "metadata": {},
     "output_type": "display_data"
    }
   ],
   "source": [
    "# ## 9. Evidence-Based Inference Input (Interactive with ipywidgets)\n",
    "from ipywidgets import interact_manual, widgets\n",
    "\n",
    "# Create dropdowns dynamically for all variables\n",
    "from ipywidgets import Dropdown\n",
    "model.fit(df, estimator=MaximumLikelihoodEstimator)\n",
    "\n",
    "# Визначимо root_variables — ті вузли, в яких немає батьків:\n",
    "root_variables = [\n",
    "    node\n",
    "    for node in model.nodes()\n",
    "    if len(model.get_parents(node)) == 0\n",
    "]\n",
    "\n",
    "dropdowns = {}\n",
    "if \"Sex\" in root_variables:\n",
    "    dropdowns[\"sex\"] = widgets.Dropdown(options=[(\"Female\", \"female\"), (\"Male\", \"male\")], description='Sex:')\n",
    "if \"Age\" in root_variables:\n",
    "    dropdowns[\"age\"] = widgets.Dropdown(options=[(\"Young\", 'child'), (\"Adult\", 'adult'), (\"Old\", 'old')], description='Age:')\n",
    "\n",
    "@interact_manual(**dropdowns)\n",
    "def compute_survival(**kwargs):\n",
    "    from plotly.subplots import make_subplots\n",
    "    import plotly.graph_objects as go\n",
    "    from math import ceil\n",
    "\n",
    "    evidence = {key.capitalize(): val for key, val in kwargs.items()}\n",
    "    try:\n",
    "        result = inference.query(variables=[\"Survived\"], evidence=evidence)\n",
    "    except:\n",
    "        result = \"Inference failed due to incompatible evidence.\"\n",
    "    print(\"Inference Result:\")\n",
    "    print(result)\n",
    "\n",
    "    # Visualize updated marginals for all CPDs under evidence\n",
    "    cpds = model.get_cpds()\n",
    "    fig = make_subplots(\n",
    "        rows=ceil(len(cpds)/2), cols=2,\n",
    "        subplot_titles=[cpd.variable for cpd in cpds],\n",
    "        horizontal_spacing=0.15, vertical_spacing=0.2\n",
    "    )\n",
    "\n",
    "    row, col = 1, 1\n",
    "    for cpd in cpds:\n",
    "        variable = cpd.variable\n",
    "        try:\n",
    "            marginal = inference.query(variables=[variable], evidence=evidence)\n",
    "            states = cpd.state_names[variable]\n",
    "            probs = marginal.values\n",
    "        except:\n",
    "            states = cpd.state_names[variable]\n",
    "            probs = [0 for _ in states]\n",
    "\n",
    "        decoded_states = [f\"{variable} = {s}\" for s in states]\n",
    "        fig.add_trace(\n",
    "            go.Bar(x=decoded_states, y=probs, name=variable),\n",
    "            row=row, col=col\n",
    "        )\n",
    "\n",
    "        col += 1\n",
    "        if col > 2:\n",
    "            row += 1\n",
    "            col = 1\n",
    "\n",
    "    fig.update_layout(height=400*ceil(len(cpds)/2), width=900, title_text=\"Posterior Distributions given Evidence\")\n",
    "    fig.show()\n",
    "\n",
    "    # Tabular output of posterior probabilities\n",
    "    import pandas as pd\n",
    "    print(\"Posterior Probabilities (Tabular):\")\n",
    "    for cpd in cpds:\n",
    "        variable = cpd.variable\n",
    "        try:\n",
    "            marginal = inference.query(variables=[variable], evidence=evidence)\n",
    "            decoded_states = [f\"{variable} = {s}\" for s in cpd.state_names[variable]]\n",
    "            df = pd.DataFrame({variable: decoded_states, \"P(·|evidence)\": marginal.values})\n",
    "            display(df)\n",
    "        except:\n",
    "            continue\n",
    "\n",
    "    # Re-display network structure with posterior probabilities above nodes\n",
    "G = nx.DiGraph()\n",
    "G.add_nodes_from(model.nodes())\n",
    "G.add_edges_from(model.edges())\n",
    "pos = nx.spring_layout(G)\n",
    "\n",
    "plt.figure(figsize=(10, 7))\n",
    "nx.draw(G, pos, with_labels=True, node_color='lightblue', node_size=2000, font_size=10, arrows=True)\n",
    "\n",
    "# Annotate nodes with posterior probabilities (exclude root variables)\n",
    "for cpd in cpds:\n",
    "    variable = cpd.variable\n",
    "    # Display all nodes, including root variables\n",
    "    try:\n",
    "        marginal = inference.query(variables=[variable], evidence=evidence)\n",
    "        states = cpd.state_names[variable]\n",
    "        probs = marginal.values\n",
    "        label = \"\".join([f\"{variable} = {s}: {p:.2f}\" for s, p in zip(states, probs)])\n",
    "        x, y = pos[variable]\n",
    "        plt.text(x, y + 0.08, label, fontsize=8, ha='center', bbox=dict(facecolor='white', alpha=0.7, boxstyle='round'))\n",
    "    except:\n",
    "        continue\n",
    "\n",
    "plt.title(\"Bayesian Network with Posterior Probabilities\")\n",
    "plt.axis('off')\n",
    "plt.show()"
   ]
  },
  {
   "cell_type": "code",
   "execution_count": null,
   "metadata": {},
   "outputs": [],
   "source": []
  }
 ],
 "metadata": {
  "kernelspec": {
   "display_name": "Python 3 (ipykernel)",
   "language": "python",
   "name": "python3"
  },
  "language_info": {
   "codemirror_mode": {
    "name": "ipython",
    "version": 3
   },
   "file_extension": ".py",
   "mimetype": "text/x-python",
   "name": "python",
   "nbconvert_exporter": "python",
   "pygments_lexer": "ipython3",
   "version": "3.12.10"
  }
 },
 "nbformat": 4,
 "nbformat_minor": 4
}
